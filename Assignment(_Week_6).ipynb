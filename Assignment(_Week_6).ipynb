{
  "nbformat": 4,
  "nbformat_minor": 0,
  "metadata": {
    "colab": {
      "provenance": [],
      "authorship_tag": "ABX9TyPQNJ3W0HH87Olgw9z3hSxY",
      "include_colab_link": true
    },
    "kernelspec": {
      "name": "python3",
      "display_name": "Python 3"
    },
    "language_info": {
      "name": "python"
    }
  },
  "cells": [
    {
      "cell_type": "markdown",
      "metadata": {
        "id": "view-in-github",
        "colab_type": "text"
      },
      "source": [
        "<a href=\"https://colab.research.google.com/github/TandinTandin/Individual-Assignment-/blob/main/Assignment(_Week_6).ipynb\" target=\"_parent\"><img src=\"https://colab.research.google.com/assets/colab-badge.svg\" alt=\"Open In Colab\"/></a>"
      ]
    },
    {
      "cell_type": "code",
      "execution_count": null,
      "metadata": {
        "id": "W31rRJP0hze9"
      },
      "outputs": [],
      "source": []
    },
    {
      "cell_type": "markdown",
      "source": [
        "# ASSIGNMENTS (Week 6)\n",
        "\n",
        "- Note: This file contains the repositofy code for all the assignment given during class of week 6\n",
        "\n",
        "#Assignment 1"
      ],
      "metadata": {
        "id": "IQDwAkOQh0Pw"
      }
    },
    {
      "cell_type": "code",
      "source": [
        "import datetime\n",
        "\n",
        "# Ask the user for their age\n",
        "age = int(input(\"Enter your age: \"))\n",
        "\n",
        "# Decide ticket price based on age\n",
        "if age < 12:\n",
        "    price = 300\n",
        "elif age <= 17:\n",
        "    price = 500\n",
        "elif age <= 59:\n",
        "    price = 800\n",
        "else:\n",
        "    price = 400\n",
        "\n",
        "# Check if today is Wednesday\n",
        "today = datetime.datetime.today().strftime('%A')\n",
        "if today == \"Wednesday\":\n",
        "    price -= 100\n",
        "\n",
        "# Print the result\n",
        "print(f\"Your ticket price is Nu. {price}\")\n"
      ],
      "metadata": {
        "colab": {
          "base_uri": "https://localhost:8080/"
        },
        "id": "ojhLArqCiJhX",
        "outputId": "167009d4-a0b8-4020-cd36-5fd94ced5241"
      },
      "execution_count": 1,
      "outputs": [
        {
          "output_type": "stream",
          "name": "stdout",
          "text": [
            "Enter your age: 45\n",
            "Your ticket price is Nu. 800\n"
          ]
        }
      ]
    },
    {
      "cell_type": "markdown",
      "source": [
        "# Assignment 2"
      ],
      "metadata": {
        "id": "rRUKBIugiddN"
      }
    },
    {
      "cell_type": "code",
      "source": [
        "# Secret number\n",
        "secret_number = 40\n",
        "\n",
        "# Ask the user to guess\n",
        "guess = int(input(\"Guess the secret number: \"))\n",
        "\n",
        "# Keep asking until the user guesses correctly\n",
        "while guess != secret_number:\n",
        "    print(\"Wrong guess. Try again!\")\n",
        "    guess = int(input(\"Guess the secret number: \"))\n",
        "\n",
        "# Correct guess\n",
        "print(\"Congratulations! You guessed correctly!\")\n"
      ],
      "metadata": {
        "colab": {
          "base_uri": "https://localhost:8080/"
        },
        "id": "0IcfQ-naigEW",
        "outputId": "0df15ddb-f89b-4c63-fc73-9bbdbf22aacd"
      },
      "execution_count": 2,
      "outputs": [
        {
          "output_type": "stream",
          "name": "stdout",
          "text": [
            "Guess the secret number: 45\n",
            "Wrong guess. Try again!\n",
            "Guess the secret number: 50\n",
            "Wrong guess. Try again!\n",
            "Guess the secret number: 40\n",
            "Congratulations! You guessed correctly!\n"
          ]
        }
      ]
    },
    {
      "cell_type": "markdown",
      "source": [
        "# Assignment 3\n",
        "\n",
        "1. Keyword Arguments\n",
        "\n",
        "Keyword arguments allow you to pass arguments to a function by explicitly naming them. This makes your code more readable and the order of arguments doesn’t matter."
      ],
      "metadata": {
        "id": "2XhC25ZBjKXC"
      }
    },
    {
      "cell_type": "code",
      "source": [
        "def greet(name, age):\n",
        "    print(f\"Hello {name}, you are {age} years old.\")\n",
        "\n",
        "# Using keyword arguments\n",
        "greet(name=\"Tandin\", age=25)\n"
      ],
      "metadata": {
        "colab": {
          "base_uri": "https://localhost:8080/"
        },
        "id": "PceFb5-2j5hY",
        "outputId": "07fec4f0-31c7-4b40-980c-310864896c0b"
      },
      "execution_count": 3,
      "outputs": [
        {
          "output_type": "stream",
          "name": "stdout",
          "text": [
            "Hello Tandin, you are 25 years old.\n"
          ]
        }
      ]
    },
    {
      "cell_type": "markdown",
      "source": [
        "2. Variable Number of Arguments (*args)\n",
        "\n",
        "*args allows a function to accept any number of positional arguments."
      ],
      "metadata": {
        "id": "OFcR4FyJkAc4"
      }
    },
    {
      "cell_type": "code",
      "source": [
        "def add_numbers(*args):\n",
        "    total = 0\n",
        "    for num in args:\n",
        "        total += num\n",
        "    print(f\"The sum is {total}\")\n",
        "\n",
        "# Calling function with different number of arguments\n",
        "add_numbers(2, 3)\n",
        "add_numbers(5, 10, 15, 20)\n"
      ],
      "metadata": {
        "colab": {
          "base_uri": "https://localhost:8080/"
        },
        "id": "1WP3QbmzkKZA",
        "outputId": "98585834-ca14-405d-b197-55f476493a52"
      },
      "execution_count": 4,
      "outputs": [
        {
          "output_type": "stream",
          "name": "stdout",
          "text": [
            "The sum is 5\n",
            "The sum is 50\n"
          ]
        }
      ]
    },
    {
      "cell_type": "markdown",
      "source": [
        "3. Keyword Variable Arguments (**kwargs)\n",
        "\n",
        "**kwargs allows a function to accept any number of keyword arguments (name=value pairs)."
      ],
      "metadata": {
        "id": "bnvOs8xskYtc"
      }
    },
    {
      "cell_type": "code",
      "source": [
        "def student_info(**kwargs):\n",
        "    for key, value in kwargs.items():\n",
        "        print(f\"{key}: {value}\")\n",
        "\n",
        "# Calling function with different keyword arguments\n",
        "student_info(name=\"Tandin\", age=25, grade=\"A\")\n",
        "\n"
      ],
      "metadata": {
        "colab": {
          "base_uri": "https://localhost:8080/"
        },
        "id": "iIkEYSz_kbXd",
        "outputId": "bd8d0fb1-5180-4ba9-81cb-83065b765418"
      },
      "execution_count": 5,
      "outputs": [
        {
          "output_type": "stream",
          "name": "stdout",
          "text": [
            "name: Tandin\n",
            "age: 25\n",
            "grade: A\n"
          ]
        }
      ]
    },
    {
      "cell_type": "markdown",
      "source": [
        "4. Combining *args and **kwargs\n",
        "\n",
        "You can use both together to accept any combination of positional and keyword arguments."
      ],
      "metadata": {
        "id": "R_gqPtLEkrN7"
      }
    },
    {
      "cell_type": "code",
      "source": [
        "def mixed_example(*args, **kwargs):\n",
        "    print(\"Positional arguments:\", args)\n",
        "    print(\"Keyword arguments:\", kwargs)\n",
        "\n",
        "mixed_example(1, 2, 3, name=\"Tandin\", age=25)\n"
      ],
      "metadata": {
        "colab": {
          "base_uri": "https://localhost:8080/"
        },
        "id": "ZrNyM4nZkxvA",
        "outputId": "31765333-4386-4bd0-d997-72a44a2ae62d"
      },
      "execution_count": 6,
      "outputs": [
        {
          "output_type": "stream",
          "name": "stdout",
          "text": [
            "Positional arguments: (1, 2, 3)\n",
            "Keyword arguments: {'name': 'Tandin', 'age': 25}\n"
          ]
        }
      ]
    },
    {
      "cell_type": "markdown",
      "source": [
        "# Assignment 4\n"
      ],
      "metadata": {
        "id": "Vbi7a4Jxk4Ct"
      }
    },
    {
      "cell_type": "code",
      "source": [
        "# Define the function to calculate grade\n",
        "def calculate_grade(marks):\n",
        "    if marks >= 90 and marks <= 100:\n",
        "        return \"A\"\n",
        "    elif marks >= 80 and marks <= 89:\n",
        "        return \"B\"\n",
        "    elif marks >= 70 and marks <= 79:\n",
        "        return \"C\"\n",
        "    elif marks >= 60 and marks <= 69:\n",
        "        return \"D\"\n",
        "    else:\n",
        "        return \"Failed\"\n",
        "\n",
        "# Ask the user to enter their marks\n",
        "marks = int(input(\"Enter your marks (0-100): \"))\n",
        "\n",
        "# Call the function and print the grade\n",
        "grade = calculate_grade(marks)\n",
        "print(f\"Your grade is {grade}\")\n"
      ],
      "metadata": {
        "colab": {
          "base_uri": "https://localhost:8080/"
        },
        "id": "LX0refwVlKQ_",
        "outputId": "3c2969c4-6e27-4e62-c7dd-bc8a0bc1df70"
      },
      "execution_count": 8,
      "outputs": [
        {
          "output_type": "stream",
          "name": "stdout",
          "text": [
            "Enter your marks (0-100): 56\n",
            "Your grade is Failed\n"
          ]
        }
      ]
    }
  ]
}